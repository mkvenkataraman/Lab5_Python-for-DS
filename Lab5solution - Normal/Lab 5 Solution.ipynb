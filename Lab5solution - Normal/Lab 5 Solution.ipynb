{
 "cells": [
  {
   "cell_type": "markdown",
   "id": "b233a58d",
   "metadata": {
    "id": "b233a58d"
   },
   "source": [
    "# <font color=darkblue> Machine Learning model deployment with Flask framework</font>"
   ]
  },
  {
   "cell_type": "markdown",
   "id": "2c4b2479",
   "metadata": {
    "id": "2c4b2479"
   },
   "source": [
    "## <font color=Blue>Used Cars Price Prediction Application</font>"
   ]
  },
  {
   "cell_type": "markdown",
   "id": "bad7f286",
   "metadata": {
    "id": "bad7f286"
   },
   "source": [
    "### Objective:\n",
    "1. To build a Machine learning regression model to predict the selling price of the used cars based on the different input features like fuel_type, kms_driven, type of transmission etc.\n",
    "2. Deploy the machine learning model with the help of the flask framework."
   ]
  },
  {
   "cell_type": "markdown",
   "id": "3c741642",
   "metadata": {
    "id": "3c741642"
   },
   "source": [
    "### Dataset Information:\n",
    "#### Dataset Source: https://www.kaggle.com/datasets/nehalbirla/vehicle-dataset-from-cardekho?select=CAR+DETAILS+FROM+CAR+DEKHO.csv\n",
    "This dataset contains information about used cars listed on www.cardekho.com\n",
    "- **Car_Name**: Name of the car\n",
    "- **Year**: Year of Purchase\n",
    "- **Selling Price (target)**: Selling price of the car in lakhs\n",
    "- **Present Price**: Present price of the car in lakhs\n",
    "- **Kms_Driven**: kilometers driven\n",
    "- **Fuel_Type**: Petrol/diesel/CNG\n",
    "- **Seller_Type**: Dealer or Indiviual\n",
    "- **Transmission**: Manual or Automatic\n",
    "- **Owner**: first, second or third owner\n"
   ]
  },
  {
   "cell_type": "markdown",
   "id": "a340f92c",
   "metadata": {
    "id": "a340f92c"
   },
   "source": [
    "### 1. Import required libraries"
   ]
  },
  {
   "cell_type": "code",
   "execution_count": 1,
   "id": "DekbG2Sm7L00",
   "metadata": {
    "id": "DekbG2Sm7L00"
   },
   "outputs": [],
   "source": [
    "# Create ML model"
   ]
  },
  {
   "cell_type": "code",
   "execution_count": 3,
   "id": "f84f2c30-dce4-4417-b5f2-bbca9f72feda",
   "metadata": {},
   "outputs": [],
   "source": [
    "# import libraries\n",
    "# numpy: For numerical operations and handling arrays.\n",
    "# pandas: For data manipulation and analysis.\n",
    "# pickle: For saving and loading machine learning models.    \n",
    "import numpy as np\n",
    "import pandas as pd\n",
    "import pickle"
   ]
  },
  {
   "cell_type": "markdown",
   "id": "38a2da95",
   "metadata": {
    "id": "38a2da95"
   },
   "source": [
    "### 2. Load the dataset"
   ]
  },
  {
   "cell_type": "code",
   "execution_count": 4,
   "id": "LS5P5wps7MOv",
   "metadata": {
    "id": "LS5P5wps7MOv"
   },
   "outputs": [
    {
     "data": {
      "text/html": [
       "<div>\n",
       "<style scoped>\n",
       "    .dataframe tbody tr th:only-of-type {\n",
       "        vertical-align: middle;\n",
       "    }\n",
       "\n",
       "    .dataframe tbody tr th {\n",
       "        vertical-align: top;\n",
       "    }\n",
       "\n",
       "    .dataframe thead th {\n",
       "        text-align: right;\n",
       "    }\n",
       "</style>\n",
       "<table border=\"1\" class=\"dataframe\">\n",
       "  <thead>\n",
       "    <tr style=\"text-align: right;\">\n",
       "      <th></th>\n",
       "      <th>Car_Name</th>\n",
       "      <th>Year</th>\n",
       "      <th>Selling_Price</th>\n",
       "      <th>Present_Price</th>\n",
       "      <th>Kms_Driven</th>\n",
       "      <th>Fuel_Type</th>\n",
       "      <th>Seller_Type</th>\n",
       "      <th>Transmission</th>\n",
       "      <th>Owner</th>\n",
       "    </tr>\n",
       "  </thead>\n",
       "  <tbody>\n",
       "    <tr>\n",
       "      <th>0</th>\n",
       "      <td>ritz</td>\n",
       "      <td>2014</td>\n",
       "      <td>3.35</td>\n",
       "      <td>5.59</td>\n",
       "      <td>27000</td>\n",
       "      <td>Petrol</td>\n",
       "      <td>Dealer</td>\n",
       "      <td>Manual</td>\n",
       "      <td>0</td>\n",
       "    </tr>\n",
       "    <tr>\n",
       "      <th>1</th>\n",
       "      <td>sx4</td>\n",
       "      <td>2013</td>\n",
       "      <td>4.75</td>\n",
       "      <td>9.54</td>\n",
       "      <td>43000</td>\n",
       "      <td>Diesel</td>\n",
       "      <td>Dealer</td>\n",
       "      <td>Manual</td>\n",
       "      <td>0</td>\n",
       "    </tr>\n",
       "    <tr>\n",
       "      <th>2</th>\n",
       "      <td>ciaz</td>\n",
       "      <td>2017</td>\n",
       "      <td>7.25</td>\n",
       "      <td>9.85</td>\n",
       "      <td>6900</td>\n",
       "      <td>Petrol</td>\n",
       "      <td>Dealer</td>\n",
       "      <td>Manual</td>\n",
       "      <td>0</td>\n",
       "    </tr>\n",
       "    <tr>\n",
       "      <th>3</th>\n",
       "      <td>wagon r</td>\n",
       "      <td>2011</td>\n",
       "      <td>2.85</td>\n",
       "      <td>4.15</td>\n",
       "      <td>5200</td>\n",
       "      <td>Petrol</td>\n",
       "      <td>Dealer</td>\n",
       "      <td>Manual</td>\n",
       "      <td>0</td>\n",
       "    </tr>\n",
       "    <tr>\n",
       "      <th>4</th>\n",
       "      <td>swift</td>\n",
       "      <td>2014</td>\n",
       "      <td>4.60</td>\n",
       "      <td>6.87</td>\n",
       "      <td>42450</td>\n",
       "      <td>Diesel</td>\n",
       "      <td>Dealer</td>\n",
       "      <td>Manual</td>\n",
       "      <td>0</td>\n",
       "    </tr>\n",
       "  </tbody>\n",
       "</table>\n",
       "</div>"
      ],
      "text/plain": [
       "  Car_Name  Year  Selling_Price  Present_Price  Kms_Driven Fuel_Type  \\\n",
       "0     ritz  2014           3.35           5.59       27000    Petrol   \n",
       "1      sx4  2013           4.75           9.54       43000    Diesel   \n",
       "2     ciaz  2017           7.25           9.85        6900    Petrol   \n",
       "3  wagon r  2011           2.85           4.15        5200    Petrol   \n",
       "4    swift  2014           4.60           6.87       42450    Diesel   \n",
       "\n",
       "  Seller_Type Transmission  Owner  \n",
       "0      Dealer       Manual      0  \n",
       "1      Dealer       Manual      0  \n",
       "2      Dealer       Manual      0  \n",
       "3      Dealer       Manual      0  \n",
       "4      Dealer       Manual      0  "
      ]
     },
     "execution_count": 4,
     "metadata": {},
     "output_type": "execute_result"
    }
   ],
   "source": [
    "# load the dataset\n",
    "# andshow the first five rows, to you verify correct loading of the dataset.\n",
    "df = pd.read_csv('cardata.csv')\n",
    "df.head()"
   ]
  },
  {
   "cell_type": "markdown",
   "id": "26ecd9c6",
   "metadata": {
    "id": "26ecd9c6"
   },
   "source": [
    "### 3. Check the shape and basic information of the dataset."
   ]
  },
  {
   "cell_type": "code",
   "execution_count": 5,
   "id": "wd8XSTpf7Mng",
   "metadata": {
    "id": "wd8XSTpf7Mng"
   },
   "outputs": [
    {
     "name": "stdout",
     "output_type": "stream",
     "text": [
      "Shape of the dataset: (301, 9)\n",
      "<class 'pandas.core.frame.DataFrame'>\n",
      "RangeIndex: 301 entries, 0 to 300\n",
      "Data columns (total 9 columns):\n",
      " #   Column         Non-Null Count  Dtype  \n",
      "---  ------         --------------  -----  \n",
      " 0   Car_Name       301 non-null    object \n",
      " 1   Year           301 non-null    int64  \n",
      " 2   Selling_Price  301 non-null    float64\n",
      " 3   Present_Price  301 non-null    float64\n",
      " 4   Kms_Driven     301 non-null    int64  \n",
      " 5   Fuel_Type      301 non-null    object \n",
      " 6   Seller_Type    301 non-null    object \n",
      " 7   Transmission   301 non-null    object \n",
      " 8   Owner          301 non-null    int64  \n",
      "dtypes: float64(2), int64(3), object(4)\n",
      "memory usage: 21.3+ KB\n"
     ]
    }
   ],
   "source": [
    "# Check the shape of the dataset\n",
    "print(\"Shape of the dataset:\", df.shape)\n",
    "\n",
    "# Check basic information about the dataset\n",
    "df.info()"
   ]
  },
  {
   "cell_type": "markdown",
   "id": "06991b14",
   "metadata": {
    "id": "06991b14"
   },
   "source": [
    "### 4. Check for the presence of the duplicate records in the dataset? If present drop them"
   ]
  },
  {
   "cell_type": "code",
   "execution_count": 6,
   "id": "-u5XA5d47Nbe",
   "metadata": {
    "id": "-u5XA5d47Nbe"
   },
   "outputs": [
    {
     "name": "stdout",
     "output_type": "stream",
     "text": [
      "Number of duplicate records: 2\n",
      "Duplicates have been dropped.\n",
      "Shape of the dataset after removing duplicates: (299, 9)\n"
     ]
    }
   ],
   "source": [
    "# Check for duplicates\n",
    "duplicate_count = df.duplicated().sum()\n",
    "print(f\"Number of duplicate records: {duplicate_count}\")\n",
    "\n",
    "# Drop duplicates if present\n",
    "if duplicate_count > 0:\n",
    "    df = df.drop_duplicates()\n",
    "    print(\"Duplicates have been dropped.\")\n",
    "\n",
    "# Confirm the shape of the dataset after dropping duplicates\n",
    "print(\"Shape of the dataset after removing duplicates:\", df.shape)"
   ]
  },
  {
   "cell_type": "markdown",
   "id": "367efc0b",
   "metadata": {
    "id": "367efc0b"
   },
   "source": [
    "### 5. Drop the columns which you think redundant for the analysis."
   ]
  },
  {
   "cell_type": "code",
   "execution_count": 7,
   "id": "gPMZesyr7OHb",
   "metadata": {
    "id": "gPMZesyr7OHb"
   },
   "outputs": [
    {
     "name": "stdout",
     "output_type": "stream",
     "text": [
      "Columns after dropping redundant ones: Index(['Year', 'Selling_Price', 'Present_Price', 'Kms_Driven', 'Fuel_Type',\n",
      "       'Seller_Type', 'Transmission', 'Owner'],\n",
      "      dtype='object')\n"
     ]
    }
   ],
   "source": [
    "# Drop columns that are not relevant for the analysis\n",
    "columns_to_drop = ['Car_Name'] \n",
    "df = df.drop(columns=columns_to_drop)\n",
    "\n",
    "# Verify the columns after dropping\n",
    "print(\"Columns after dropping redundant ones:\", df.columns)"
   ]
  },
  {
   "cell_type": "markdown",
   "id": "7fb3674f",
   "metadata": {
    "id": "7fb3674f"
   },
   "source": [
    "### 6. Extract a new feature called 'age_of_the_car' from the feature 'year' and drop the feature year"
   ]
  },
  {
   "cell_type": "code",
   "execution_count": 8,
   "id": "-E8ZwwvE7Oe_",
   "metadata": {
    "id": "-E8ZwwvE7Oe_"
   },
   "outputs": [
    {
     "data": {
      "text/html": [
       "<div>\n",
       "<style scoped>\n",
       "    .dataframe tbody tr th:only-of-type {\n",
       "        vertical-align: middle;\n",
       "    }\n",
       "\n",
       "    .dataframe tbody tr th {\n",
       "        vertical-align: top;\n",
       "    }\n",
       "\n",
       "    .dataframe thead th {\n",
       "        text-align: right;\n",
       "    }\n",
       "</style>\n",
       "<table border=\"1\" class=\"dataframe\">\n",
       "  <thead>\n",
       "    <tr style=\"text-align: right;\">\n",
       "      <th></th>\n",
       "      <th>Selling_Price</th>\n",
       "      <th>Present_Price</th>\n",
       "      <th>Kms_Driven</th>\n",
       "      <th>Fuel_Type</th>\n",
       "      <th>Seller_Type</th>\n",
       "      <th>Transmission</th>\n",
       "      <th>Owner</th>\n",
       "      <th>age_of_the_car</th>\n",
       "    </tr>\n",
       "  </thead>\n",
       "  <tbody>\n",
       "    <tr>\n",
       "      <th>0</th>\n",
       "      <td>3.35</td>\n",
       "      <td>5.59</td>\n",
       "      <td>27000</td>\n",
       "      <td>Petrol</td>\n",
       "      <td>Dealer</td>\n",
       "      <td>Manual</td>\n",
       "      <td>0</td>\n",
       "      <td>10</td>\n",
       "    </tr>\n",
       "    <tr>\n",
       "      <th>1</th>\n",
       "      <td>4.75</td>\n",
       "      <td>9.54</td>\n",
       "      <td>43000</td>\n",
       "      <td>Diesel</td>\n",
       "      <td>Dealer</td>\n",
       "      <td>Manual</td>\n",
       "      <td>0</td>\n",
       "      <td>11</td>\n",
       "    </tr>\n",
       "    <tr>\n",
       "      <th>2</th>\n",
       "      <td>7.25</td>\n",
       "      <td>9.85</td>\n",
       "      <td>6900</td>\n",
       "      <td>Petrol</td>\n",
       "      <td>Dealer</td>\n",
       "      <td>Manual</td>\n",
       "      <td>0</td>\n",
       "      <td>7</td>\n",
       "    </tr>\n",
       "    <tr>\n",
       "      <th>3</th>\n",
       "      <td>2.85</td>\n",
       "      <td>4.15</td>\n",
       "      <td>5200</td>\n",
       "      <td>Petrol</td>\n",
       "      <td>Dealer</td>\n",
       "      <td>Manual</td>\n",
       "      <td>0</td>\n",
       "      <td>13</td>\n",
       "    </tr>\n",
       "    <tr>\n",
       "      <th>4</th>\n",
       "      <td>4.60</td>\n",
       "      <td>6.87</td>\n",
       "      <td>42450</td>\n",
       "      <td>Diesel</td>\n",
       "      <td>Dealer</td>\n",
       "      <td>Manual</td>\n",
       "      <td>0</td>\n",
       "      <td>10</td>\n",
       "    </tr>\n",
       "  </tbody>\n",
       "</table>\n",
       "</div>"
      ],
      "text/plain": [
       "   Selling_Price  Present_Price  Kms_Driven Fuel_Type Seller_Type  \\\n",
       "0           3.35           5.59       27000    Petrol      Dealer   \n",
       "1           4.75           9.54       43000    Diesel      Dealer   \n",
       "2           7.25           9.85        6900    Petrol      Dealer   \n",
       "3           2.85           4.15        5200    Petrol      Dealer   \n",
       "4           4.60           6.87       42450    Diesel      Dealer   \n",
       "\n",
       "  Transmission  Owner  age_of_the_car  \n",
       "0       Manual      0              10  \n",
       "1       Manual      0              11  \n",
       "2       Manual      0               7  \n",
       "3       Manual      0              13  \n",
       "4       Manual      0              10  "
      ]
     },
     "execution_count": 8,
     "metadata": {},
     "output_type": "execute_result"
    }
   ],
   "source": [
    "# Calculate the current year\n",
    "current_year = 2024  # Set to the current year or use datetime for dynamic year extraction\n",
    "\n",
    "# Create a new feature 'age_of_the_car' based on 'Year'\n",
    "df['age_of_the_car'] = current_year - df['Year']\n",
    "\n",
    "# Drop the 'Year' column\n",
    "df = df.drop('Year', axis=1)\n",
    "\n",
    "# Display the first few rows to verify the new column\n",
    "df.head()"
   ]
  },
  {
   "cell_type": "markdown",
   "id": "8f3a144b",
   "metadata": {
    "id": "8f3a144b"
   },
   "source": [
    "### 7. Encode the categorical columns"
   ]
  },
  {
   "cell_type": "code",
   "execution_count": 10,
   "id": "EUwBNILZ7PT9",
   "metadata": {
    "id": "EUwBNILZ7PT9"
   },
   "outputs": [
    {
     "data": {
      "text/html": [
       "<div>\n",
       "<style scoped>\n",
       "    .dataframe tbody tr th:only-of-type {\n",
       "        vertical-align: middle;\n",
       "    }\n",
       "\n",
       "    .dataframe tbody tr th {\n",
       "        vertical-align: top;\n",
       "    }\n",
       "\n",
       "    .dataframe thead th {\n",
       "        text-align: right;\n",
       "    }\n",
       "</style>\n",
       "<table border=\"1\" class=\"dataframe\">\n",
       "  <thead>\n",
       "    <tr style=\"text-align: right;\">\n",
       "      <th></th>\n",
       "      <th>Selling_Price</th>\n",
       "      <th>Present_Price</th>\n",
       "      <th>Kms_Driven</th>\n",
       "      <th>Fuel_Type</th>\n",
       "      <th>Seller_Type</th>\n",
       "      <th>Transmission</th>\n",
       "      <th>Owner</th>\n",
       "      <th>age_of_the_car</th>\n",
       "    </tr>\n",
       "  </thead>\n",
       "  <tbody>\n",
       "    <tr>\n",
       "      <th>0</th>\n",
       "      <td>3.35</td>\n",
       "      <td>5.59</td>\n",
       "      <td>27000</td>\n",
       "      <td>2</td>\n",
       "      <td>0</td>\n",
       "      <td>1</td>\n",
       "      <td>0</td>\n",
       "      <td>10</td>\n",
       "    </tr>\n",
       "    <tr>\n",
       "      <th>1</th>\n",
       "      <td>4.75</td>\n",
       "      <td>9.54</td>\n",
       "      <td>43000</td>\n",
       "      <td>1</td>\n",
       "      <td>0</td>\n",
       "      <td>1</td>\n",
       "      <td>0</td>\n",
       "      <td>11</td>\n",
       "    </tr>\n",
       "    <tr>\n",
       "      <th>2</th>\n",
       "      <td>7.25</td>\n",
       "      <td>9.85</td>\n",
       "      <td>6900</td>\n",
       "      <td>2</td>\n",
       "      <td>0</td>\n",
       "      <td>1</td>\n",
       "      <td>0</td>\n",
       "      <td>7</td>\n",
       "    </tr>\n",
       "    <tr>\n",
       "      <th>3</th>\n",
       "      <td>2.85</td>\n",
       "      <td>4.15</td>\n",
       "      <td>5200</td>\n",
       "      <td>2</td>\n",
       "      <td>0</td>\n",
       "      <td>1</td>\n",
       "      <td>0</td>\n",
       "      <td>13</td>\n",
       "    </tr>\n",
       "    <tr>\n",
       "      <th>4</th>\n",
       "      <td>4.60</td>\n",
       "      <td>6.87</td>\n",
       "      <td>42450</td>\n",
       "      <td>1</td>\n",
       "      <td>0</td>\n",
       "      <td>1</td>\n",
       "      <td>0</td>\n",
       "      <td>10</td>\n",
       "    </tr>\n",
       "  </tbody>\n",
       "</table>\n",
       "</div>"
      ],
      "text/plain": [
       "   Selling_Price  Present_Price  Kms_Driven  Fuel_Type  Seller_Type  \\\n",
       "0           3.35           5.59       27000          2            0   \n",
       "1           4.75           9.54       43000          1            0   \n",
       "2           7.25           9.85        6900          2            0   \n",
       "3           2.85           4.15        5200          2            0   \n",
       "4           4.60           6.87       42450          1            0   \n",
       "\n",
       "   Transmission  Owner  age_of_the_car  \n",
       "0             1      0              10  \n",
       "1             1      0              11  \n",
       "2             1      0               7  \n",
       "3             1      0              13  \n",
       "4             1      0              10  "
      ]
     },
     "execution_count": 10,
     "metadata": {},
     "output_type": "execute_result"
    }
   ],
   "source": [
    "from sklearn.preprocessing import LabelEncoder\n",
    "\n",
    "# Define the categorical columns\n",
    "categorical_cols = ['Fuel_Type', 'Seller_Type', 'Transmission']\n",
    "\n",
    "# Apply Label Encoding to binary columns\n",
    "label_encoder = LabelEncoder()\n",
    "for col in categorical_cols:\n",
    "    df[col] = label_encoder.fit_transform(df[col])\n",
    "\n",
    "# Display the first few rows after label encoding\n",
    "df.head()"
   ]
  },
  {
   "cell_type": "markdown",
   "id": "8afe4984",
   "metadata": {
    "id": "8afe4984"
   },
   "source": [
    "### 8. Separate the target and independent features."
   ]
  },
  {
   "cell_type": "code",
   "execution_count": 11,
   "id": "39E39X1y7Pvq",
   "metadata": {
    "id": "39E39X1y7Pvq"
   },
   "outputs": [
    {
     "name": "stdout",
     "output_type": "stream",
     "text": [
      "Shape of independent features (X): (299, 7)\n",
      "Shape of target variable (y): (299,)\n"
     ]
    }
   ],
   "source": [
    "# Define the independent features (X) and the target variable (y)\n",
    "X = df.drop('Selling_Price', axis=1)  # Independent features (drop the target column)\n",
    "y = df['Selling_Price']  # Target variable\n",
    "\n",
    "# Display the shapes of X and y to confirm\n",
    "print(f\"Shape of independent features (X): {X.shape}\")\n",
    "print(f\"Shape of target variable (y): {y.shape}\")"
   ]
  },
  {
   "cell_type": "markdown",
   "id": "e12c5ef9",
   "metadata": {
    "id": "e12c5ef9"
   },
   "source": [
    "### 9. Split the data into train and test."
   ]
  },
  {
   "cell_type": "code",
   "execution_count": 12,
   "id": "gvxCw7PF7Qon",
   "metadata": {
    "id": "gvxCw7PF7Qon"
   },
   "outputs": [
    {
     "name": "stdout",
     "output_type": "stream",
     "text": [
      "Shape of X_train: (239, 7)\n",
      "Shape of X_test: (60, 7)\n",
      "Shape of y_train: (239,)\n",
      "Shape of y_test: (60,)\n"
     ]
    }
   ],
   "source": [
    "from sklearn.model_selection import train_test_split\n",
    "\n",
    "# Split the data into train and test sets\n",
    "X_train, X_test, y_train, y_test = train_test_split(X, y, test_size=0.2, random_state=42)\n",
    "\n",
    "# Display the shapes of the train and test sets to confirm\n",
    "print(f\"Shape of X_train: {X_train.shape}\")\n",
    "print(f\"Shape of X_test: {X_test.shape}\")\n",
    "print(f\"Shape of y_train: {y_train.shape}\")\n",
    "print(f\"Shape of y_test: {y_test.shape}\")"
   ]
  },
  {
   "cell_type": "markdown",
   "id": "e86fbc33",
   "metadata": {
    "id": "e86fbc33"
   },
   "source": [
    "### 10. Build a Random forest Regressor model and check the r2-score for train and test."
   ]
  },
  {
   "cell_type": "code",
   "execution_count": 13,
   "id": "IiEKH-kh7Rsw",
   "metadata": {
    "id": "IiEKH-kh7Rsw"
   },
   "outputs": [
    {
     "name": "stdout",
     "output_type": "stream",
     "text": [
      "R2 Score for Training Set: 0.9856\n",
      "R2 Score for Testing Set: 0.5777\n"
     ]
    }
   ],
   "source": [
    "from sklearn.ensemble import RandomForestRegressor\n",
    "from sklearn.metrics import r2_score\n",
    "\n",
    "# Initialize the Random Forest Regressor model\n",
    "rf_model = RandomForestRegressor(random_state=42)\n",
    "\n",
    "# Train the model on the training data\n",
    "rf_model.fit(X_train, y_train)\n",
    "\n",
    "# Predict on the training set and calculate the R2 score\n",
    "y_train_pred = rf_model.predict(X_train)\n",
    "train_r2_score = r2_score(y_train, y_train_pred)\n",
    "\n",
    "# Predict on the testing set and calculate the R2 score\n",
    "y_test_pred = rf_model.predict(X_test)\n",
    "test_r2_score = r2_score(y_test, y_test_pred)\n",
    "\n",
    "# Print the R2 scores for training and testing sets\n",
    "print(f\"R2 Score for Training Set: {train_r2_score:.4f}\")\n",
    "print(f\"R2 Score for Testing Set: {test_r2_score:.4f}\")"
   ]
  },
  {
   "cell_type": "markdown",
   "id": "ab525b11",
   "metadata": {
    "id": "ab525b11"
   },
   "source": [
    "### 11. Create a pickle file with an extension as .pkl"
   ]
  },
  {
   "cell_type": "code",
   "execution_count": 14,
   "id": "jLj3VeCH7Spb",
   "metadata": {
    "id": "jLj3VeCH7Spb"
   },
   "outputs": [
    {
     "name": "stdout",
     "output_type": "stream",
     "text": [
      "Model has been saved as random_forest_model.pkl\n"
     ]
    }
   ],
   "source": [
    "# Create a pickle file for the Random Forest Regressor model\n",
    "with open('random_forest_model.pkl', 'wb') as file:\n",
    "    pickle.dump(rf_model, file)\n",
    "\n",
    "print(\"Model has been saved as random_forest_model.pkl\")"
   ]
  },
  {
   "cell_type": "markdown",
   "id": "26246dc9",
   "metadata": {
    "id": "26246dc9"
   },
   "source": [
    "### 12. Create new folder/new project in visual studio/pycharm that should contain the \"model.pkl\" file *make sure you are using a virutal environment and install required packages.*"
   ]
  },
  {
   "cell_type": "markdown",
   "id": "0f2bd8b3",
   "metadata": {
    "id": "0f2bd8b3"
   },
   "source": [
    "### a) Create a basic HTML form for the frontend"
   ]
  },
  {
   "cell_type": "markdown",
   "id": "d5a3da56",
   "metadata": {
    "id": "d5a3da56"
   },
   "source": [
    "Create a file **index.html** in the templates folder and copy the following code."
   ]
  },
  {
   "cell_type": "code",
   "execution_count": null,
   "id": "333bd37b-1eff-473a-b161-2382a27cf798",
   "metadata": {
    "id": "l6E1gBAZ7UD4"
   },
   "outputs": [],
   "source": [
    "# Refer the html fie in templates/index.html"
   ]
  },
  {
   "cell_type": "markdown",
   "id": "ab774e57",
   "metadata": {
    "id": "ab774e57"
   },
   "source": [
    "### b) Create app.py file and write the predict function"
   ]
  },
  {
   "cell_type": "code",
   "execution_count": null,
   "id": "9r3rWra57UuQ",
   "metadata": {
    "id": "9r3rWra57UuQ"
   },
   "outputs": [],
   "source": [
    "# Refer the html file app.py in Lab5solution - \"Normal root\" directory"
   ]
  },
  {
   "cell_type": "markdown",
   "id": "CBewpqT7MEbb",
   "metadata": {
    "id": "CBewpqT7MEbb"
   },
   "source": [
    "### 13. Run the app.py python file which will render to index html page then enter the input values and get the prediction."
   ]
  },
  {
   "cell_type": "markdown",
   "id": "1affa3f2-0002-4334-879b-3adb142873cc",
   "metadata": {},
   "source": [
    "# OUPUT SCREEN (Captured Text)\n",
    "\n",
    "## Used Car Price Prediction\n",
    "\n",
    "Present Price (in lakhs):<br>\n",
    "Kms Driven:<br>\n",
    "Number of Owners:<br>\n",
    "Age of the Car:<br>\n",
    "Fuel Type (0 for Diesel, 1 for Petrol):<br>\n",
    "Seller Type (0 for Dealer, 1 for Individual):<br>\n",
    "Transmission Type (0 for Manual, 1 for Automatic):<br>\n",
    "\n",
    "---\n",
    "\n",
    "### **Inputs:**\n",
    "\n",
    "- **Present Price**: ₹1500000 lakhs  \n",
    "- **Kms Driven**: 500000 km  \n",
    "- **Number of Owners**: 3  \n",
    "- **Age of the Car**: 7 years  \n",
    "- **Fuel Type**: Diesel  \n",
    "- **Seller Type**: Individual  \n",
    "- **Transmission Type**: Manual  \n",
    "\n",
    "---\n",
    "\n",
    "### **Predicted Selling Price of the Car: ₹12.56 lakhs**\n",
    "\n"
   ]
  },
  {
   "cell_type": "markdown",
   "id": "e899b5a2",
   "metadata": {
    "id": "e899b5a2"
   },
   "source": [
    "### Happy Learning :)"
   ]
  }
 ],
 "metadata": {
  "colab": {
   "provenance": []
  },
  "kernelspec": {
   "display_name": "Python 3 (ipykernel)",
   "language": "python",
   "name": "python3"
  },
  "language_info": {
   "codemirror_mode": {
    "name": "ipython",
    "version": 3
   },
   "file_extension": ".py",
   "mimetype": "text/x-python",
   "name": "python",
   "nbconvert_exporter": "python",
   "pygments_lexer": "ipython3",
   "version": "3.12.6"
  }
 },
 "nbformat": 4,
 "nbformat_minor": 5
}
